{
 "cells": [
  {
   "cell_type": "markdown",
   "metadata": {},
   "source": [
    "# Introduction\n",
    "\n",
    "In this project, you will build a neural network of your own design to evaluate the MNIST dataset.\n",
    "\n",
    "Some of the benchmark results on MNIST include can be found [on Yann LeCun's page](http://yann.lecun.com/exdb/mnist/) and include:\n",
    "\n",
    "88% [Lecun et al., 1998](http://yann.lecun.com/exdb/publis/pdf/lecun-98.pdf)\n",
    "95.3% [Lecun et al., 1998](http://yann.lecun.com/exdb/publis/pdf/lecun-98.pdf)\n",
    "99.65% [Ciresan et al., 2011](http://people.idsia.ch/~juergen/ijcai2011.pdf)\n",
    "\n",
    "MNIST is a great dataset for sanity checking your models, since the accuracy levels achieved by large convolutional neural networks and small linear models are both quite high. This makes it important to be familiar with the data.\n",
    "\n",
    "## Imports"
   ]
  },
  {
   "cell_type": "code",
   "execution_count": 1,
   "metadata": {},
   "outputs": [
    {
     "name": "stdout",
     "output_type": "stream",
     "text": [
      "Defaulting to user installation because normal site-packages is not writeable\n",
      "Collecting ipywidgets\n",
      "  Downloading ipywidgets-8.0.2-py3-none-any.whl (134 kB)\n",
      "\u001b[K     |████████████████████████████████| 134 kB 4.8 MB/s eta 0:00:01\n",
      "\u001b[?25hRequirement already satisfied: ipykernel>=4.5.1 in /opt/conda/lib/python3.7/site-packages (from ipywidgets) (5.1.4)\n",
      "Collecting widgetsnbextension~=4.0\n",
      "  Downloading widgetsnbextension-4.0.3-py3-none-any.whl (2.0 MB)\n",
      "\u001b[K     |████████████████████████████████| 2.0 MB 16.1 MB/s eta 0:00:01\n",
      "\u001b[?25hCollecting jupyterlab-widgets~=3.0\n",
      "  Downloading jupyterlab_widgets-3.0.3-py3-none-any.whl (384 kB)\n",
      "\u001b[K     |████████████████████████████████| 384 kB 9.9 MB/s eta 0:00:01\n",
      "\u001b[?25hRequirement already satisfied: ipython>=6.1.0 in /opt/conda/lib/python3.7/site-packages (from ipywidgets) (7.13.0)\n",
      "Requirement already satisfied: traitlets>=4.3.1 in /opt/conda/lib/python3.7/site-packages (from ipywidgets) (4.3.3)\n",
      "Requirement already satisfied: tornado>=4.2 in /opt/conda/lib/python3.7/site-packages (from ipykernel>=4.5.1->ipywidgets) (5.1.1)\n",
      "Requirement already satisfied: jupyter-client in /opt/conda/lib/python3.7/site-packages (from ipykernel>=4.5.1->ipywidgets) (6.0.0)\n",
      "Requirement already satisfied: pygments in /opt/conda/lib/python3.7/site-packages (from ipython>=6.1.0->ipywidgets) (2.5.2)\n",
      "Requirement already satisfied: backcall in /opt/conda/lib/python3.7/site-packages (from ipython>=6.1.0->ipywidgets) (0.1.0)\n",
      "Requirement already satisfied: decorator in /opt/conda/lib/python3.7/site-packages (from ipython>=6.1.0->ipywidgets) (4.4.2)\n",
      "Requirement already satisfied: jedi>=0.10 in /opt/conda/lib/python3.7/site-packages (from ipython>=6.1.0->ipywidgets) (0.16.0)\n",
      "Requirement already satisfied: pickleshare in /opt/conda/lib/python3.7/site-packages (from ipython>=6.1.0->ipywidgets) (0.7.5)\n",
      "Requirement already satisfied: pexpect; sys_platform != \"win32\" in /opt/conda/lib/python3.7/site-packages (from ipython>=6.1.0->ipywidgets) (4.8.0)\n",
      "Requirement already satisfied: prompt-toolkit!=3.0.0,!=3.0.1,<3.1.0,>=2.0.0 in /opt/conda/lib/python3.7/site-packages (from ipython>=6.1.0->ipywidgets) (3.0.3)\n",
      "Requirement already satisfied: setuptools>=18.5 in /opt/conda/lib/python3.7/site-packages (from ipython>=6.1.0->ipywidgets) (45.2.0.post20200209)\n",
      "Requirement already satisfied: six in /opt/conda/lib/python3.7/site-packages (from traitlets>=4.3.1->ipywidgets) (1.16.0)\n",
      "Requirement already satisfied: ipython-genutils in /opt/conda/lib/python3.7/site-packages (from traitlets>=4.3.1->ipywidgets) (0.2.0)\n",
      "Requirement already satisfied: pyzmq>=13 in /opt/conda/lib/python3.7/site-packages (from jupyter-client->ipykernel>=4.5.1->ipywidgets) (19.0.0)\n",
      "Requirement already satisfied: jupyter-core>=4.6.0 in /opt/conda/lib/python3.7/site-packages (from jupyter-client->ipykernel>=4.5.1->ipywidgets) (4.6.3)\n",
      "Requirement already satisfied: python-dateutil>=2.1 in /opt/conda/lib/python3.7/site-packages (from jupyter-client->ipykernel>=4.5.1->ipywidgets) (2.8.1)\n",
      "Requirement already satisfied: parso>=0.5.2 in /opt/conda/lib/python3.7/site-packages (from jedi>=0.10->ipython>=6.1.0->ipywidgets) (0.6.1)\n",
      "Requirement already satisfied: ptyprocess>=0.5 in /opt/conda/lib/python3.7/site-packages (from pexpect; sys_platform != \"win32\"->ipython>=6.1.0->ipywidgets) (0.6.0)\n",
      "Requirement already satisfied: wcwidth in /opt/conda/lib/python3.7/site-packages (from prompt-toolkit!=3.0.0,!=3.0.1,<3.1.0,>=2.0.0->ipython>=6.1.0->ipywidgets) (0.1.8)\n",
      "Installing collected packages: widgetsnbextension, jupyterlab-widgets, ipywidgets\n",
      "Successfully installed ipywidgets-8.0.2 jupyterlab-widgets-3.0.3 widgetsnbextension-4.0.3\n"
     ]
    }
   ],
   "source": [
    "!pip install ipywidgets"
   ]
  },
  {
   "cell_type": "code",
   "execution_count": 2,
   "metadata": {},
   "outputs": [],
   "source": [
    "## This cell contains the essential imports you will need – DO NOT CHANGE THE CONTENTS! ##\n",
    "import torch\n",
    "import torch.nn as nn\n",
    "import torch.nn.functional as F\n",
    "import torch.optim as optim\n",
    "import torchvision\n",
    "import torchvision.transforms as transforms\n",
    "import matplotlib.pyplot as plt\n",
    "import numpy as np"
   ]
  },
  {
   "cell_type": "markdown",
   "metadata": {},
   "source": [
    "## Load the Dataset\n",
    "\n",
    "Specify your transforms as a list if you intend to .\n",
    "The transforms module is already loaded as `transforms`.\n",
    "\n",
    "MNIST is fortunately included in the torchvision module.\n",
    "Then, you can create your dataset using the `MNIST` object from `torchvision.datasets` ([the documentation is available here](https://pytorch.org/vision/stable/datasets.html#mnist)).\n",
    "Make sure to specify `download=True`! \n",
    "\n",
    "Once your dataset is created, you'll also need to define a `DataLoader` from the `torch.utils.data` module for both the train and the test set."
   ]
  },
  {
   "cell_type": "code",
   "execution_count": 3,
   "metadata": {
    "scrolled": true
   },
   "outputs": [
    {
     "name": "stderr",
     "output_type": "stream",
     "text": [
      "/opt/conda/lib/python3.7/site-packages/torchvision/datasets/mnist.py:498: UserWarning: The given NumPy array is not writable, and PyTorch does not support non-writable tensors. This means writing to this tensor will result in undefined behavior. You may want to copy the array to protect its data or make it writable before converting it to a tensor. This type of warning will be suppressed for the rest of this program. (Triggered internally at  ../torch/csrc/utils/tensor_numpy.cpp:178.)\n",
      "  return torch.from_numpy(parsed.astype(m[2], copy=False)).view(*s)\n"
     ]
    }
   ],
   "source": [
    "#transform = transforms.Compose([transforms.ToTensor(),transforms.Normalize((0.13066,), (0.30811,))])\n",
    "transform = transforms.Compose([transforms.ToTensor()])\n",
    "\n",
    "batch_d=100\n",
    "\n",
    "# Create training set and define training dataloader\n",
    "## YOUR CODE HERE ##\n",
    "train_data = torchvision.datasets.MNIST(\"./data\", train=True, download=True, transform=transform)\n",
    "train_loader = torch.utils.data.DataLoader(train_data, \n",
    "                                           batch_size=batch_d, \n",
    "                                           shuffle=True)\n",
    "\n",
    "\n",
    "# Create test set and define test dataloader\n",
    "## YOUR CODE HERE ##\n",
    "test_data = torchvision.datasets.MNIST('./data', train=False, download=True, transform=transform)\n",
    "test_loader= torch.utils.data.DataLoader(test_data,\n",
    "                                          batch_size=batch_d,\n",
    "                                          shuffle=False)"
   ]
  },
  {
   "cell_type": "markdown",
   "metadata": {},
   "source": [
    "## Justify your preprocessing\n",
    "\n",
    "In your own words, why did you choose the transforms you chose? If you didn't use any preprocessing steps, why not?"
   ]
  },
  {
   "cell_type": "markdown",
   "metadata": {},
   "source": [
    "I choose to convert images to tensors in order to be handled by Dataloader. \n",
    "I chose to not useany other transformation since ToTensor include min-max normalization. Standardization with mean and standard deviation could be used to normalize data."
   ]
  },
  {
   "cell_type": "markdown",
   "metadata": {},
   "source": [
    "## Explore the Dataset\n",
    "Using matplotlib, numpy, and torch, explore the dimensions of your data.\n",
    "\n",
    "You can view images using the `show5` function defined below – it takes a data loader as an argument.\n",
    "Remember that normalized images will look really weird to you! You may want to try changing your transforms to view images.\n",
    "Typically using no transforms other than `toTensor()` works well for viewing – but not as well for training your network.\n",
    "If `show5` doesn't work, go back and check your code for creating your data loaders and your training/test sets."
   ]
  },
  {
   "cell_type": "code",
   "execution_count": 4,
   "metadata": {},
   "outputs": [],
   "source": [
    "## This cell contains a function for showing 5 images from a dataloader – DO NOT CHANGE THE CONTENTS! ##\n",
    "def show5(img_loader):\n",
    "    dataiter = iter(img_loader)\n",
    "    \n",
    "    batch = next(dataiter)\n",
    "    labels = batch[1][0:5]\n",
    "    images = batch[0][0:5]\n",
    "    for i in range(5):\n",
    "        print(int(labels[i].detach()))\n",
    "    \n",
    "        image = images[i].numpy()\n",
    "        plt.imshow(image.T.squeeze().T)\n",
    "        plt.show()"
   ]
  },
  {
   "cell_type": "code",
   "execution_count": 5,
   "metadata": {},
   "outputs": [
    {
     "name": "stdout",
     "output_type": "stream",
     "text": [
      "DATA EXPLORATION\n",
      "Images size: (28, 28)\n",
      "\n",
      "TRAIN SET\n",
      "Size of the train dataset: 60000\n",
      "Min: 0 - Max: 255\n",
      "Average: 33.32 - Standard deviation: 78.57\n",
      "Normalized Average: 0.13066 - Normalized Standard deviation: 0.30811\n",
      "\n",
      "TEST SET\n",
      "Size of the test dataset: 10000\n",
      "Min: 0 - Max: 255\n",
      "Average: 33.79 - Standard deviation: 79.17\n",
      "Normalized Average: 0.13251 - Normalized Standard deviation: 0.31048\n",
      "\n",
      "7\n"
     ]
    },
    {
     "data": {
      "image/png": "[encoded data removed]",
      "text/plain": [
       "<Figure size 432x288 with 1 Axes>"
      ]
     },
     "metadata": {
      "needs_background": "light"
     },
     "output_type": "display_data"
    },
    {
     "name": "stdout",
     "output_type": "stream",
     "text": [
      "7\n"
     ]
    },
    {
     "data": {
      "image/png": "[encoded data removed]",
      "text/plain": [
       "<Figure size 432x288 with 1 Axes>"
      ]
     },
     "metadata": {
      "needs_background": "light"
     },
     "output_type": "display_data"
    },
    {
     "name": "stdout",
     "output_type": "stream",
     "text": [
      "9\n"
     ]
    },
    {
     "data": {
      "image/png": "[encoded data removed]",
      "text/plain": [
       "<Figure size 432x288 with 1 Axes>"
      ]
     },
     "metadata": {
      "needs_background": "light"
     },
     "output_type": "display_data"
    },
    {
     "name": "stdout",
     "output_type": "stream",
     "text": [
      "0\n"
     ]
    },
    {
     "data": {
      "image/png": "[encoded data removed]",
      "text/plain": [
       "<Figure size 432x288 with 1 Axes>"
      ]
     },
     "metadata": {
      "needs_background": "light"
     },
     "output_type": "display_data"
    },
    {
     "name": "stdout",
     "output_type": "stream",
     "text": [
      "1\n"
     ]
    },
    {
     "data": {
      "image/png": "[encoded data removed]",
      "text/plain": [
       "<Figure size 432x288 with 1 Axes>"
      ]
     },
     "metadata": {
      "needs_background": "light"
     },
     "output_type": "display_data"
    }
   ],
   "source": [
    "# Explore data\n",
    "## YOUR CODE HERE ##\n",
    "#Numpy array\n",
    "\n",
    "train_data_np = train_data.data.numpy()\n",
    "test_data_np = test_data.data.numpy()\n",
    "\n",
    "print('DATA EXPLORATION')\n",
    "print(f'Images size: {train_data_np[0].shape}')\n",
    "print('')\n",
    "print('TRAIN SET')\n",
    "print(f'Size of the train dataset: {len(train_data_np)}')\n",
    "print(f'Min: {train_data_np.min()} - Max: {train_data_np.max()}')\n",
    "print(f'Average: {train_data_np.mean():.2f} - Standard deviation: {train_data_np.std():.2f}')\n",
    "print(f'Normalized Average: {train_data_np.mean()/train_data_np.max():.5f} - Normalized Standard deviation: {train_data_np.std()/train_data_np.max():.5f}')\n",
    "\n",
    "print('')\n",
    "print('TEST SET')\n",
    "print(f'Size of the test dataset: {len(test_data_np)}')\n",
    "print(f'Min: {test_data_np.min()} - Max: {test_data_np.max()}')\n",
    "print(f'Average: {test_data_np.mean():.2f} - Standard deviation: {test_data_np.std():.2f}')\n",
    "print(f'Normalized Average: {test_data_np.mean()/test_data_np.max():.5f} - Normalized Standard deviation: {test_data_np.std()/test_data_np.max():.5f}')\n",
    "print('')\n",
    "\n",
    "#Plot of 5 images\n",
    "show5(train_loader)"
   ]
  },
  {
   "cell_type": "markdown",
   "metadata": {},
   "source": [
    "## Build your Neural Network\n",
    "Using the layers in `torch.nn` (which has been imported as `nn`) and the `torch.nn.functional` module (imported as `F`), construct a neural network based on the parameters of the dataset.\n",
    "Use any architecture you like. \n",
    "\n",
    "*Note*: If you did not flatten your tensors in your transforms or as part of your preprocessing and you are using only `Linear` layers, make sure to use the `Flatten` layer in your network!"
   ]
  },
  {
   "cell_type": "code",
   "execution_count": 6,
   "metadata": {},
   "outputs": [
    {
     "name": "stdout",
     "output_type": "stream",
     "text": [
      "Net(\n",
      "  (fc1): Linear(in_features=784, out_features=200, bias=True)\n",
      "  (fc2): Linear(in_features=200, out_features=100, bias=True)\n",
      "  (fc3): Linear(in_features=100, out_features=10, bias=True)\n",
      ")\n"
     ]
    }
   ],
   "source": [
    "## YOUR CODE HERE ##\n",
    "class Net(nn.Module):\n",
    "    def __init__(self):\n",
    "        super().__init__()\n",
    "        self.activation = F.relu\n",
    "        self.fc1 = nn.Linear(28 * 28, 200)\n",
    "        self.fc2 = nn.Linear(200, 100)\n",
    "        self.fc3 = nn.Linear(100, 10)\n",
    "\n",
    "    def forward(self, x):\n",
    "        x = torch.flatten(x, 1) # flatten all dimensions except batch\n",
    "        x = self.activation(self.fc1(x))\n",
    "        x = self.activation(self.fc2(x))\n",
    "        x = self.fc3(x)\n",
    "        return x\n",
    "\n",
    "net = Net()\n",
    "print(net)"
   ]
  },
  {
   "cell_type": "markdown",
   "metadata": {},
   "source": [
    "Specify a loss function and an optimizer, and instantiate the model.\n",
    "If you use a less common loss function, please note why you chose that loss function in a comment."
   ]
  },
  {
   "cell_type": "code",
   "execution_count": 7,
   "metadata": {},
   "outputs": [],
   "source": [
    "## YOUR CODE HERE ##\n",
    "\n",
    "# Choose an optimizer\n",
    "optimizer = optim.Adam(net.parameters(), lr=0.001)\n",
    "\n",
    "# Choose a loss function\n",
    "criterion = nn.CrossEntropyLoss()"
   ]
  },
  {
   "cell_type": "markdown",
   "metadata": {},
   "source": [
    "## Running your Neural Network\n",
    "Use whatever method you like to train your neural network, and ensure you record the average loss at each epoch. \n",
    "Don't forget to use `torch.device()` and the `.to()` method for both your model and your data if you are using GPU!\n",
    "\n",
    "If you want to print your loss **during** each epoch, you can use the `enumerate` function and print the loss after a set number of batches. 250 batches works well for most people!"
   ]
  },
  {
   "cell_type": "code",
   "execution_count": 8,
   "metadata": {},
   "outputs": [
    {
     "name": "stdout",
     "output_type": "stream",
     "text": [
      "Epoch 1 training accuracy: 90.47% training loss: 0.00343\n",
      "Epoch 1 validation accuracy: 95.50% validation loss: 0.00154\n",
      "Epoch 2 training accuracy: 95.85% training loss: 0.00138\n",
      "Epoch 2 validation accuracy: 96.36% validation loss: 0.00116\n",
      "Epoch 3 training accuracy: 97.22% training loss: 0.00092\n",
      "Epoch 3 validation accuracy: 96.98% validation loss: 0.00091\n",
      "Epoch 4 training accuracy: 97.78% training loss: 0.00071\n",
      "Epoch 4 validation accuracy: 97.08% validation loss: 0.00085\n",
      "Epoch 5 training accuracy: 98.41% training loss: 0.00053\n",
      "Epoch 5 validation accuracy: 97.64% validation loss: 0.00075\n",
      "Epoch 6 training accuracy: 98.65% training loss: 0.00043\n",
      "Epoch 6 validation accuracy: 97.45% validation loss: 0.00079\n",
      "Epoch 7 training accuracy: 98.81% training loss: 0.00036\n",
      "Epoch 7 validation accuracy: 97.83% validation loss: 0.00076\n",
      "Epoch 8 training accuracy: 99.11% training loss: 0.00029\n",
      "Epoch 8 validation accuracy: 97.53% validation loss: 0.00085\n",
      "Epoch 9 training accuracy: 99.25% training loss: 0.00023\n",
      "Epoch 9 validation accuracy: 97.42% validation loss: 0.00094\n",
      "Epoch 10 training accuracy: 99.34% training loss: 0.00020\n",
      "Epoch 10 validation accuracy: 97.96% validation loss: 0.00076\n",
      "Epoch 11 training accuracy: 99.49% training loss: 0.00016\n",
      "Epoch 11 validation accuracy: 97.79% validation loss: 0.00084\n",
      "Epoch 12 training accuracy: 99.50% training loss: 0.00015\n",
      "Epoch 12 validation accuracy: 97.70% validation loss: 0.00083\n",
      "Epoch 13 training accuracy: 99.67% training loss: 0.00011\n",
      "Epoch 13 validation accuracy: 97.82% validation loss: 0.00098\n",
      "Epoch 14 training accuracy: 99.51% training loss: 0.00014\n",
      "Epoch 14 validation accuracy: 97.77% validation loss: 0.00087\n",
      "Epoch 15 training accuracy: 99.65% training loss: 0.00010\n",
      "Epoch 15 validation accuracy: 97.89% validation loss: 0.00097\n",
      "Epoch 16 training accuracy: 99.71% training loss: 0.00009\n",
      "Epoch 16 validation accuracy: 97.82% validation loss: 0.00094\n",
      "Epoch 17 training accuracy: 99.79% training loss: 0.00006\n",
      "Epoch 17 validation accuracy: 97.98% validation loss: 0.00093\n",
      "Epoch 18 training accuracy: 99.57% training loss: 0.00012\n",
      "Epoch 18 validation accuracy: 97.78% validation loss: 0.00098\n",
      "Epoch 19 training accuracy: 99.59% training loss: 0.00012\n",
      "Epoch 19 validation accuracy: 97.78% validation loss: 0.00103\n",
      "Epoch 20 training accuracy: 99.85% training loss: 0.00005\n",
      "Epoch 20 validation accuracy: 97.80% validation loss: 0.00114\n"
     ]
    }
   ],
   "source": [
    "## YOUR CODE HERE ##\n",
    "\n",
    "num_epochs = 20\n",
    "train_loss_history = list()\n",
    "train_accuracy_history=list()\n",
    "\n",
    "val_loss_history = list()\n",
    "val_accuracy_history=list()\n",
    "\n",
    "for epoch in range(num_epochs):\n",
    "    net = net.train()\n",
    "    train_loss = 0.0\n",
    "    train_correct = 0\n",
    "    for i, data in enumerate(train_loader):\n",
    "        inputs, labels = data\n",
    "        \n",
    "        if torch.cuda.is_available():\n",
    "            inputs, labels = inputs.cuda(), labels.cuda()\n",
    "            \n",
    "        optimizer.zero_grad()\n",
    "        outputs =  net(inputs)\n",
    "        loss =  criterion(outputs, labels)\n",
    "        loss.backward()\n",
    "        optimizer.step()\n",
    "        \n",
    "        _, preds = torch.max(outputs.data, 1)#check result,preds are index of row(label)\n",
    "        train_correct += (preds == labels).sum().item()#add all True\n",
    "\n",
    "        train_loss += loss.item()#errors\n",
    "    print(f'Epoch {epoch + 1} training accuracy: {100*train_correct/len(train_loader.dataset):.2f}% training loss: {train_loss/len(train_loader.dataset):.5f}')\n",
    "    # print(f'{train_correct}/{len(train_loader.dataset)}')\n",
    "    train_loss_history.append(train_loss/len(train_loader.dataset))\n",
    "    train_accuracy_history.append(train_correct/len(train_loader.dataset))\n",
    "    \n",
    "    val_loss = 0.0\n",
    "    val_correct = 0\n",
    "    net = net.eval()\n",
    "    for i, data in enumerate(test_loader):\n",
    "        inputs, labels = data\n",
    "        \n",
    "        if torch.cuda.is_available():\n",
    "            inputs, labels = inputs.cuda(), labels.cuda()\n",
    "            \n",
    "        outputs = net(inputs)\n",
    "        loss = criterion(outputs, labels)\n",
    "        _, preds = torch.max(outputs.data, 1)\n",
    "        val_correct += (preds == labels).sum().item()\n",
    "        val_loss += loss.item()\n",
    "    print(f'Epoch {epoch + 1} validation accuracy: {100*val_correct/len(test_loader.dataset):.2f}% validation loss: {val_loss/len(test_loader.dataset):.5f}')\n",
    "    #print(f'{val_correct}/{len(test_loader.dataset)}')\n",
    "    val_loss_history.append(val_loss/len(test_loader.dataset))\n",
    "    val_accuracy_history.append(val_correct/len(test_loader.dataset))"
   ]
  },
  {
   "cell_type": "markdown",
   "metadata": {},
   "source": [
    "Plot the training loss (and validation loss/accuracy, if recorded)."
   ]
  },
  {
   "cell_type": "code",
   "execution_count": 9,
   "metadata": {},
   "outputs": [
    {
     "data": {
      "image/png": "[encoded data removed]",
      "text/plain": [
       "<Figure size 432x288 with 1 Axes>"
      ]
     },
     "metadata": {
      "needs_background": "light"
     },
     "output_type": "display_data"
    },
    {
     "data": {
      "image/png": "[encoded data removed]",
      "text/plain": [
       "<Figure size 432x288 with 1 Axes>"
      ]
     },
     "metadata": {
      "needs_background": "light"
     },
     "output_type": "display_data"
    }
   ],
   "source": [
    "## YOUR CODE HERE ##\n",
    "plt.plot(train_loss_history, label=\"Training Loss\")\n",
    "plt.plot(val_loss_history, label=\"Validation Loss\")\n",
    "plt.title(\"Loss\")\n",
    "plt.legend()\n",
    "plt.show()\n",
    "\n",
    "plt.plot(train_accuracy_history, label=\"Training Accuracy\")\n",
    "plt.plot(val_accuracy_history, label=\"Validation Accuracy\")\n",
    "plt.title(\"Accuracy\")\n",
    "plt.legend()\n",
    "plt.show()"
   ]
  },
  {
   "cell_type": "markdown",
   "metadata": {},
   "source": [
    "## Testing your model\n",
    "Using the previously created `DataLoader` for the test set, compute the percentage of correct predictions using the highest probability prediction. \n",
    "\n",
    "If your accuracy is over 90%, great work, but see if you can push a bit further! \n",
    "If your accuracy is under 90%, you'll need to make improvements.\n",
    "Go back and check your model architecture, loss function, and optimizer to make sure they're appropriate for an image classification task."
   ]
  },
  {
   "cell_type": "code",
   "execution_count": 10,
   "metadata": {},
   "outputs": [
    {
     "name": "stdout",
     "output_type": "stream",
     "text": [
      "\n",
      "ACCURACY and LOSS\n",
      "Validation accuracy: 97.80% Validation loss: 0.00114\n",
      "9780/10000\n"
     ]
    }
   ],
   "source": [
    "## YOUR CODE HERE ##\n",
    "val_correct = 0\n",
    "val_loss = 0.0\n",
    "\n",
    "for i, data in enumerate(test_loader):\n",
    "    inputs, labels = data\n",
    "    net = net.eval()\n",
    "    outputs = net(inputs)\n",
    "    loss = criterion(outputs, labels)\n",
    "    _, preds = torch.max(outputs.data, 1)\n",
    "    val_correct += (preds == labels).sum().item()\n",
    "    val_loss += loss.item()\n",
    "print('')\n",
    "print(\"ACCURACY and LOSS\")\n",
    "print(f'Validation accuracy: {100*val_correct/len(test_loader.dataset):.2f}% Validation loss: {val_loss/len(test_loader.dataset):.5f}')\n",
    "print(f'{val_correct}/{len(test_loader.dataset)}')"
   ]
  },
  {
   "cell_type": "markdown",
   "metadata": {},
   "source": [
    "## Improving your model\n",
    "\n",
    "Once your model is done training, try tweaking your hyperparameters and training again below to improve your accuracy on the test set!"
   ]
  },
  {
   "cell_type": "code",
   "execution_count": 11,
   "metadata": {},
   "outputs": [
    {
     "name": "stdout",
     "output_type": "stream",
     "text": [
      "Net(\n",
      "  (fc1): Linear(in_features=784, out_features=200, bias=True)\n",
      "  (fc2): Linear(in_features=200, out_features=100, bias=True)\n",
      "  (fc3): Linear(in_features=100, out_features=10, bias=True)\n",
      "  (dropout): Dropout(p=0.3, inplace=False)\n",
      ")\n",
      "Epoch 1 training accuracy: 87.58% training loss: 0.00430\n",
      "Epoch 1 validation accuracy: 94.93% validation loss: 0.00167\n",
      "Epoch 2 training accuracy: 94.58% training loss: 0.00185\n",
      "Epoch 2 validation accuracy: 96.43% validation loss: 0.00116\n",
      "Epoch 3 training accuracy: 95.98% training loss: 0.00139\n",
      "Epoch 3 validation accuracy: 97.12% validation loss: 0.00095\n",
      "Epoch 4 training accuracy: 96.61% training loss: 0.00114\n",
      "Epoch 4 validation accuracy: 97.63% validation loss: 0.00080\n",
      "Epoch 5 training accuracy: 97.06% training loss: 0.00097\n",
      "Epoch 5 validation accuracy: 97.61% validation loss: 0.00075\n",
      "Epoch 6 training accuracy: 97.32% training loss: 0.00086\n",
      "Epoch 6 validation accuracy: 97.82% validation loss: 0.00070\n",
      "Epoch 7 training accuracy: 97.62% training loss: 0.00077\n",
      "Epoch 7 validation accuracy: 97.82% validation loss: 0.00074\n",
      "Epoch 8 training accuracy: 97.78% training loss: 0.00070\n",
      "Epoch 8 validation accuracy: 97.93% validation loss: 0.00068\n",
      "Epoch 9 training accuracy: 97.84% training loss: 0.00067\n",
      "Epoch 9 validation accuracy: 98.04% validation loss: 0.00065\n",
      "Epoch 10 training accuracy: 98.07% training loss: 0.00062\n",
      "Epoch 10 validation accuracy: 98.08% validation loss: 0.00067\n",
      "Epoch 11 training accuracy: 98.15% training loss: 0.00056\n",
      "Epoch 11 validation accuracy: 98.02% validation loss: 0.00065\n",
      "Epoch 12 training accuracy: 98.23% training loss: 0.00054\n",
      "Epoch 12 validation accuracy: 98.11% validation loss: 0.00067\n",
      "Epoch 13 training accuracy: 98.37% training loss: 0.00051\n",
      "Epoch 13 validation accuracy: 97.90% validation loss: 0.00067\n",
      "Epoch 14 training accuracy: 98.36% training loss: 0.00050\n",
      "Epoch 14 validation accuracy: 98.19% validation loss: 0.00067\n",
      "Epoch 15 training accuracy: 98.55% training loss: 0.00045\n",
      "Epoch 15 validation accuracy: 97.91% validation loss: 0.00077\n",
      "Epoch 16 training accuracy: 98.60% training loss: 0.00044\n",
      "Epoch 16 validation accuracy: 97.87% validation loss: 0.00076\n",
      "Epoch 17 training accuracy: 98.56% training loss: 0.00043\n",
      "Epoch 17 validation accuracy: 98.09% validation loss: 0.00069\n",
      "Epoch 18 training accuracy: 98.63% training loss: 0.00041\n",
      "Epoch 18 validation accuracy: 98.05% validation loss: 0.00073\n",
      "Epoch 19 training accuracy: 98.78% training loss: 0.00039\n",
      "Epoch 19 validation accuracy: 98.23% validation loss: 0.00068\n",
      "Epoch 20 training accuracy: 98.75% training loss: 0.00037\n",
      "Epoch 20 validation accuracy: 98.11% validation loss: 0.00073\n"
     ]
    },
    {
     "data": {
      "image/png": "[encoded data removed]",
      "text/plain": [
       "<Figure size 432x288 with 1 Axes>"
      ]
     },
     "metadata": {
      "needs_background": "light"
     },
     "output_type": "display_data"
    },
    {
     "data": {
      "image/png": "[encoded data removed]",
      "text/plain": [
       "<Figure size 432x288 with 1 Axes>"
      ]
     },
     "metadata": {
      "needs_background": "light"
     },
     "output_type": "display_data"
    },
    {
     "name": "stdout",
     "output_type": "stream",
     "text": [
      "\n",
      "ACCURACY and LOSS after model improvement\n",
      "Validation accuracy: 98.11%  - Validation loss: 0.00073\n",
      "9811/10000\n"
     ]
    }
   ],
   "source": [
    "## YOUR CODE HERE ##\n",
    "\n",
    "#MODEL IMPROVEMENT - Dropout to reduce overfitting\n",
    "# Define the class for your neural network\n",
    "class Net(nn.Module):\n",
    "    def __init__(self):\n",
    "        super().__init__()\n",
    "        self.activation = F.relu\n",
    "        self.fc1 = nn.Linear(28 * 28, 200)\n",
    "        self.fc2 = nn.Linear(200, 100)\n",
    "        self.fc3 = nn.Linear(100, 10)\n",
    "        # Dropout\n",
    "        self.dropout = nn.Dropout(0.3)\n",
    "\n",
    "    def forward(self, x):\n",
    "        x = torch.flatten(x, 1) # flatten all dimensions except batch\n",
    "        x = self.activation(self.fc1(x))\n",
    "        x = self.dropout(x)\n",
    "        x = self.activation(self.fc2(x))\n",
    "        x = self.dropout(x)\n",
    "        x = self.fc3(x)\n",
    "        return x\n",
    "\n",
    "# Instantiate the model\n",
    "net = Net()\n",
    "print(net)\n",
    "\n",
    "# Choose an optimizer\n",
    "optimizer = optim.Adam(net.parameters(), lr=0.001)\n",
    "\n",
    "# Choose a loss function\n",
    "criterion = nn.CrossEntropyLoss()\n",
    "\n",
    "\n",
    "num_epochs = 20\n",
    "train_loss_history = list()\n",
    "train_accuracy_history=list()\n",
    "\n",
    "val_loss_history = list()\n",
    "val_accuracy_history=list()\n",
    "\n",
    "for epoch in range(num_epochs):\n",
    "    net = net.train()\n",
    "    train_loss = 0.0\n",
    "    train_correct = 0\n",
    "    for i, data in enumerate(train_loader):\n",
    "        inputs, labels = data\n",
    "        \n",
    "        if torch.cuda.is_available():\n",
    "            inputs, labels = inputs.cuda(), labels.cuda()\n",
    "            \n",
    "        optimizer.zero_grad()\n",
    "        outputs =  net(inputs)\n",
    "        loss =  criterion(outputs, labels)\n",
    "        loss.backward()\n",
    "        optimizer.step()\n",
    "        \n",
    "        _, preds = torch.max(outputs.data, 1)#check result,preds are index of row(label)\n",
    "        train_correct += (preds == labels).sum().item()#add all True\n",
    "\n",
    "        train_loss += loss.item()#errors\n",
    "    print(f'Epoch {epoch + 1} training accuracy: {100*train_correct/len(train_loader.dataset):.2f}% training loss: {train_loss/len(train_loader.dataset):.5f}')\n",
    "    #print(f'{train_correct}/{len(train_loader.dataset)}')\n",
    "    train_loss_history.append(train_loss/len(train_loader.dataset))\n",
    "    train_accuracy_history.append(train_correct/len(train_loader.dataset))\n",
    "    \n",
    "    val_loss = 0.0\n",
    "    val_correct = 0\n",
    "    net = net.eval()\n",
    "    for i, data in enumerate(test_loader):\n",
    "        inputs, labels = data\n",
    "        \n",
    "        if torch.cuda.is_available():\n",
    "            inputs, labels = inputs.cuda(), labels.cuda()\n",
    "            \n",
    "        outputs = net(inputs)\n",
    "        loss = criterion(outputs, labels)\n",
    "        _, preds = torch.max(outputs.data, 1)\n",
    "        val_correct += (preds == labels).sum().item()\n",
    "        val_loss += loss.item()\n",
    "    print(f'Epoch {epoch + 1} validation accuracy: {100*val_correct/len(test_loader.dataset):.2f}% validation loss: {val_loss/len(test_loader.dataset):.5f}')\n",
    "    #print(f'{val_correct}/{len(test_loader.dataset)}')\n",
    "    val_loss_history.append(val_loss/len(test_loader.dataset))\n",
    "    val_accuracy_history.append(val_correct/len(test_loader.dataset))\n",
    "    \n",
    "    \n",
    "## YOUR CODE HERE ##\n",
    "plt.plot(train_loss_history, label=\"Training Loss\")\n",
    "plt.plot(val_loss_history, label=\"Validation Loss\")\n",
    "plt.title(\"Loss - Model improvement\")\n",
    "plt.legend()\n",
    "plt.show()\n",
    "\n",
    "plt.plot(train_accuracy_history, label=\"Training Accuracy\")\n",
    "plt.plot(val_accuracy_history, label=\"Validation Accuracy\")\n",
    "plt.title(\"Accuracy - Model improvement\")\n",
    "plt.legend()\n",
    "plt.show()\n",
    "\n",
    "\n",
    "val_correct = 0\n",
    "val_loss = 0.0\n",
    "\n",
    "for i, data in enumerate(test_loader):\n",
    "    inputs, labels = data\n",
    "    net = net.eval()\n",
    "    outputs = net(inputs)\n",
    "    loss = criterion(outputs, labels)\n",
    "    _, preds = torch.max(outputs.data, 1)\n",
    "    val_correct += (preds == labels).sum().item()\n",
    "    val_loss += loss.item()\n",
    "print('')\n",
    "print(\"ACCURACY and LOSS after model improvement\")\n",
    "print(f'Validation accuracy: {100*val_correct/len(test_loader.dataset):.2f}%  - Validation loss: {val_loss/len(test_loader.dataset):.5f}')\n",
    "print(f'{val_correct}/{len(test_loader.dataset)}')"
   ]
  },
  {
   "cell_type": "markdown",
   "metadata": {},
   "source": [
    "## Saving your model\n",
    "Using `torch.save`, save your model for future loading."
   ]
  },
  {
   "cell_type": "code",
   "execution_count": 12,
   "metadata": {},
   "outputs": [],
   "source": [
    "## YOUR CODE HERE ##\n",
    "#torch.save(net,'/Users/raffaelepepe/Desktop/DeepLearning_Udacity/project1/mnist_model') \n",
    "torch.save(net,'mnist_model') "
   ]
  }
 ],
 "metadata": {
  "kernelspec": {
   "display_name": "Python 3",
   "language": "python",
   "name": "python3"
  },
  "language_info": {
   "codemirror_mode": {
    "name": "ipython",
    "version": 3
   },
   "file_extension": ".py",
   "mimetype": "text/x-python",
   "name": "python",
   "nbconvert_exporter": "python",
   "pygments_lexer": "ipython3",
   "version": "3.7.6"
  }
 },
 "nbformat": 4,
 "nbformat_minor": 4
}
